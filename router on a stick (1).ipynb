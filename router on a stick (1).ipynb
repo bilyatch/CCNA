{
 "cells": [
  {
   "cell_type": "markdown",
   "id": "7edf976f-36c3-46b8-9171-7f364ebce9aa",
   "metadata": {},
   "source": [
    "<h2>Router on a stick</h2>"
   ]
  },
  {
   "cell_type": "markdown",
   "id": "182c37e1-471b-4407-85ea-6644fb722d5b",
   "metadata": {},
   "source": [
    "<img src=\"https://github.com/bilyatch/CCNA/blob/main/photo/Screenshot%202024-12-24%20232044.png?raw=true\" height=500px width=500px>"
   ]
  },
  {
   "cell_type": "markdown",
   "id": "7ab5c153-6bfc-420b-97aa-10c3000879c2",
   "metadata": {},
   "source": [
    "<p>In IOU1:\n",
    "    \n",
    "1. In interface e2/0-1, vlan 10 has been assigned(i.e by switchport access vlan 10)\n",
    "2. In interface e1/0-1, vlan 30 has been assigned(i.e by switchport access vlan 30)\n",
    "3. In interface e0/0, trunk port has been established(i.e by switchport mode trunk)\n",
    "</p>\n",
    "\n",
    "<p>In IOU2:\n",
    "    \n",
    "1. In interface e0/2, vlan 10 has been assigned(i.e by switchport access vlan 10)\n",
    "2. In interface e0/3, vlan 30 has been assigned(i.e by switchport access vlan 30)\n",
    "3. In interface e0/0, trunk port has been established(i.e by switchport mode trunk)\n",
    "4. In interface e3/0, trunk port has been established(i.e by switchport mode trunk)\n",
    "</p>"
   ]
  },
  {
   "cell_type": "markdown",
   "id": "7f32d0b0-cd8d-4838-b88f-cb247bd95176",
   "metadata": {},
   "source": [
    "<p>In R1:\n",
    "    \r\n",
    "1. In interface f0/0 subinterface has been created as f0/0.10, f0/0.20, f0/0.30 for vlan 10,20,30 respectively\r\n",
    "2. In sub-interface f0/0.10, gateway ip for vlan 10 has been assigned(i.e ip address 10.0.00/192)\n",
    "3. In sub-interface f0/0.20, gateway ip for vlan 20 has been assigned(i.e ip address 10.0.0.125/192)\n",
    "4. In sub-interface f0/0.30, gateway ip for vlan 30 has been assigned(i.e ip address 10.0.0.189/192).6</p>"
   ]
  },
  {
   "cell_type": "markdown",
   "id": "41ac775d-4c99-4cab-b2a3-696ddec7a76b",
   "metadata": {},
   "source": [
    "<p>In PCs:\n",
    "    \n",
    "1. Assign ip address in each pc according to its sub-mask and assign gateway ip for pc as per there Vlan </p>\n"
   ]
  },
  {
   "cell_type": "markdown",
   "id": "89c293f8-cd03-45e7-9911-71d2bf7ed64d",
   "metadata": {},
   "source": [
    "<b>Result:</b>"
   ]
  },
  {
   "cell_type": "markdown",
   "id": "a91c13fa-9dc4-4917-8951-bd157ef078e5",
   "metadata": {},
   "source": [
    "<img src=\"https://github.com/bilyatch/CCNA/blob/main/photo/image.png?raw=true\" height=700px width=1000px>"
   ]
  },
  {
   "cell_type": "code",
   "execution_count": null,
   "id": "d1b7e3ec-0ed3-428f-b7b3-d52e8c10593e",
   "metadata": {},
   "outputs": [],
   "source": []
  }
 ],
 "metadata": {
  "kernelspec": {
   "display_name": "Python 3 (ipykernel)",
   "language": "python",
   "name": "python3"
  },
  "language_info": {
   "codemirror_mode": {
    "name": "ipython",
    "version": 3
   },
   "file_extension": ".py",
   "mimetype": "text/x-python",
   "name": "python",
   "nbconvert_exporter": "python",
   "pygments_lexer": "ipython3",
   "version": "3.11.6"
  }
 },
 "nbformat": 4,
 "nbformat_minor": 5
}
