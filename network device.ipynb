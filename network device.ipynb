{
 "cells": [
  {
   "cell_type": "markdown",
   "id": "4c0389ad-5239-4817-ad2f-16751330337f",
   "metadata": {},
   "source": []
  },
  {
   "cell_type": "markdown",
   "id": "ead51957-72c9-4157-bf2b-c90e3fafed88",
   "metadata": {},
   "source": [
    "Computer Network"
   ]
  },
  {
   "cell_type": "markdown",
   "id": "931263d1-3bc2-4556-91c7-ce759feb16a1",
   "metadata": {},
   "source": [
    "A computer network is a digital telecommuncaitons netwrok which allows nodes to share resources\n"
   ]
  },
  {
   "cell_type": "code",
   "execution_count": null,
   "id": "fee2cb18-cfdc-4fce-b81a-79e755f6599e",
   "metadata": {},
   "outputs": [],
   "source": [
    "these are the notations of the devices:"
   ]
  },
  {
   "attachments": {},
   "cell_type": "markdown",
   "id": "9607fdc8-c5d0-4e8c-9083-6cb91a8f3f2b",
   "metadata": {},
   "source": [
    "<img src=\"https://github.com/bilyatch/CCNA/blob/main/photo/notation.png?raw=true\">"
   ]
  },
  {
   "cell_type": "markdown",
   "id": "e8ad26d3-eb02-43a4-bf2b-1a86b47bbad3",
   "metadata": {},
   "source": [
    "<img src=\"https://github.com/bilyatch/CCNA/blob/main/photo/Screenshot%202024-01-27%20153752.png?raw=true\">"
   ]
  },
  {
   "cell_type": "markdown",
   "id": "44e1c1b0-7bc1-4a30-9d85-bbccb90a6a46",
   "metadata": {},
   "source": [
    "as shown in above figure the connection between server and client is cal"
   ]
  },
  {
   "cell_type": "markdown",
   "id": "74640e66-038e-4153-b3ff-f38dff90349f",
   "metadata": {},
   "source": [
    "<h1>Clients<h1>"
   ]
  },
  {
   "cell_type": "markdown",
   "id": "5aa8e776-b244-44f8-8c81-42ddb28cc267",
   "metadata": {},
   "source": [
    "Clients are the device that accesses a service made available by the server"
   ]
  },
  {
   "cell_type": "markdown",
   "id": "c198e06c-5027-4d88-a154-b6985ff0ff03",
   "metadata": {},
   "source": [
    "<img src=\"https://github.com/bilyatch/CCNA/blob/main/photo/Screenshot%202024-01-27%20154513.png?raw=true\">"
   ]
  },
  {
   "cell_type": "markdown",
   "id": "22a2efde-e697-4c3f-b4f9-00cd3eb65d99",
   "metadata": {},
   "source": [
    "<h3>Servers</h3>"
   ]
  },
  {
   "cell_type": "markdown",
   "id": "edf0b9b0-0736-4d3e-9b4f-4150f0257ab8",
   "metadata": {},
   "source": [
    "A servers is a device that provides functions or services for clients"
   ]
  },
  {
   "cell_type": "markdown",
   "id": "ab8bc0e1-b866-4dcc-a6d0-30a997a45d82",
   "metadata": {},
   "source": [
    "<img src=\"https://github.com/bilyatch/CCNA/blob/main/photo/Screenshot%202024-01-27%20155710.png?raw=true\">"
   ]
  },
  {
   "cell_type": "markdown",
   "id": "5b1339a0-bba9-49c7-9255-4bbc69ec33e9",
   "metadata": {},
   "source": []
  },
  {
   "cell_type": "markdown",
   "id": "cbcc557d-87f1-458b-b178-b950bb2a735d",
   "metadata": {},
   "source": [
    "<h4>Client and Server network</h4>"
   ]
  },
  {
   "cell_type": "markdown",
   "id": "026d23b9-f08d-4200-902a-bdc570ba0b22",
   "metadata": {},
   "source": [
    "<img src=\"https://github.com/bilyatch/CCNA/blob/main/photo/Screenshot%202024-01-27%20160035.png?raw=true\">"
   ]
  },
  {
   "cell_type": "markdown",
   "id": "4a803a0e-fb92-4305-9f10-7936d570f3ee",
   "metadata": {},
   "source": [
    "<h3>Switches</h3>"
   ]
  },
  {
   "cell_type": "markdown",
   "id": "cdc93740-234c-444a-820d-8f36ae7c3f73",
   "metadata": {},
   "source": [
    ".Switches have many network interfaces/ports for end hosts to connect to( usually 24+)<br>\n",
    ".Provide connectivity to hosts within the same lan<br>\n",
    ".Do not provide connectivity between LANs/over the internet <br>\n",
    "<br>\n",
    "Some of the switches of ciso are :"
   ]
  },
  {
   "cell_type": "markdown",
   "id": "8d0ee06c-897e-4e80-97ef-2e003e774568",
   "metadata": {},
   "source": [
    "<img src=\"https://github.com/bilyatch/CCNA/blob/main/photo/Screenshot%202024-01-27%20160413.png?raw=true\">"
   ]
  },
  {
   "cell_type": "markdown",
   "id": "a9e46206-1e2d-4f95-a496-3bdaeeb48a5c",
   "metadata": {},
   "source": [
    "the fig. below shows how the network is connected by the switch in LAN"
   ]
  },
  {
   "cell_type": "markdown",
   "id": "aeee481f-fbed-4bed-91cd-328e1d7a3fba",
   "metadata": {},
   "source": [
    "<img src=\"https://github.com/bilyatch/CCNA/blob/main/photo/Screenshot%202024-01-27%20160234.png?raw=true\">"
   ]
  },
  {
   "cell_type": "code",
   "execution_count": null,
   "id": "87547088-ec98-4578-b1a4-e74fb91008a3",
   "metadata": {},
   "outputs": [],
   "source": []
  },
  {
   "cell_type": "markdown",
   "id": "59b03e95-60f7-4322-8e71-d07777821fe7",
   "metadata": {},
   "source": [
    "<h3>Router</h3>"
   ]
  },
  {
   "cell_type": "markdown",
   "id": "91ee969e-8462-43e9-8d3e-8033ae261b2e",
   "metadata": {},
   "source": [
    ".Routers have few network interfaces than switches<br>\n",
    ".Routers are used to provide connectivity between LANs<br>\n",
    ".Routers are therefore used to send data over the internet<br>\n",
    "<br>\n",
    "Some routers we can find of cisco are shown below in fig:"
   ]
  },
  {
   "cell_type": "markdown",
   "id": "008193e0-9cfe-4e56-9b81-fc35817a5395",
   "metadata": {},
   "source": [
    "<img src=\"https://github.com/bilyatch/CCNA/blob/main/photo/Screenshot%202024-01-27%20161107.png?raw=true\">"
   ]
  },
  {
   "cell_type": "markdown",
   "id": "97e625f5-246a-4369-b078-39e6c2ab165a",
   "metadata": {},
   "source": [
    "the fig. below shows how the router connects the networks:"
   ]
  },
  {
   "cell_type": "markdown",
   "id": "5dc75f61-e5db-44c6-b434-9d6e3e923c6c",
   "metadata": {},
   "source": [
    "<img src=\"https://github.com/bilyatch/CCNA/blob/main/photo/Screenshot%202024-01-27%20161036.png?raw=true\">"
   ]
  },
  {
   "cell_type": "markdown",
   "id": "7dccca03-16f2-4c49-ad1a-6c7e3a75c095",
   "metadata": {},
   "source": [
    "<h3>Firewalls</h3>"
   ]
  },
  {
   "cell_type": "markdown",
   "id": "7568af61-fc52-404d-9037-3899fdaf874f",
   "metadata": {},
   "source": [
    ".Firewalls monitors and control network traffic based on configured rules.<br>\n",
    ".Firewalls can be placed 'inside' the networks, or 'Outside' the network.<br>\n",
    ".Firewalls are known as 'Next-Genereation firewalls' when they include more modern and advance filtering capabilities.<br>\n",
    "<br>\n",
    "\n",
    "types of firewalls:<br>\n",
    "<br>\n",
    "Network firewalls: are hardware devices that filter traffic between networks<br>\n",
    "<br>\n",
    "Host-based firewalls: are software applications that filter traffic entering and exiting a host machine, like a pc<br>\n",
    "<br>\n",
    "some of the firewalls are shown below:"
   ]
  },
  {
   "attachments": {},
   "cell_type": "markdown",
   "id": "ac05c4f4-dbf3-4e53-9455-ad586ee67204",
   "metadata": {},
   "source": [
    "<img src=\"https://github.com/bilyatch/CCNA/blob/main/photo/Screenshot%202024-01-27%20161806.png?raw=true\">"
   ]
  },
  {
   "cell_type": "markdown",
   "id": "7bf0413a-741c-4ead-8478-fa2d30041fcc",
   "metadata": {},
   "source": [
    "and the connectivity is shown below:"
   ]
  },
  {
   "cell_type": "markdown",
   "id": "5ba6f389-59c3-4d02-bcdd-7d93b4b03a01",
   "metadata": {},
   "source": [
    "<img src=\"https://github.com/bilyatch/CCNA/blob/main/photo/Screenshot%202024-01-27%20161740.png?raw=true\">"
   ]
  },
  {
   "cell_type": "code",
   "execution_count": null,
   "id": "268d2e85-5f0f-4807-b87a-f76248aa5030",
   "metadata": {},
   "outputs": [],
   "source": []
  }
 ],
 "metadata": {
  "kernelspec": {
   "display_name": "Python 3 (ipykernel)",
   "language": "python",
   "name": "python3"
  },
  "language_info": {
   "codemirror_mode": {
    "name": "ipython",
    "version": 3
   },
   "file_extension": ".py",
   "mimetype": "text/x-python",
   "name": "python",
   "nbconvert_exporter": "python",
   "pygments_lexer": "ipython3",
   "version": "3.11.6"
  }
 },
 "nbformat": 4,
 "nbformat_minor": 5
}
