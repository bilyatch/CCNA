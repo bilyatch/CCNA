{
 "cells": [
  {
   "cell_type": "markdown",
   "id": "260b5e35-df93-4574-8e8f-d342583e2746",
   "metadata": {},
   "source": [
    "<h2><b>FHRP(First Hop Redundancy Protocols)"
   ]
  },
  {
   "cell_type": "markdown",
   "id": "2b74838f-57a7-416f-9eb1-a4c2ca9c0cd3",
   "metadata": {},
   "source": [
    "<img src=\"https://github.com/bilyatch/CCNA/blob/main/photo/Screenshot%202025-01-01%20225101.png?raw=true\">"
   ]
  },
  {
   "cell_type": "markdown",
   "id": "cdca1fed-fb46-4344-830c-3aa78bb278fb",
   "metadata": {},
   "source": [
    "<img src=\"https://github.com/bilyatch/CCNA/blob/main/photo/Screenshot%202025-01-01%20141358.png?raw=true\">"
   ]
  },
  {
   "cell_type": "markdown",
   "id": "63ce30fc-571d-4c15-85e7-7e4ca12eb503",
   "metadata": {},
   "source": [
    "There are 3 types of FHRP:<br>\n",
    "<li type=\"ul\">HSRP(Hot StandBy Router Protocol)</li>\n",
    "<li type=\"ul\">VRRP(Virtual Router Redundancy Protocol)</li>\n",
    "<li type=\"ul\">GLBP(Global Load Balancing Protocol)</li>"
   ]
  },
  {
   "cell_type": "markdown",
   "id": "17f9a8bb-1ff2-4652-94f7-1eb49002fa70",
   "metadata": {},
   "source": [
    "<img src=\"https://github.com/bilyatch/CCNA/blob/main/photo/Screenshot%202025-01-01%20224935.png?raw=true\">"
   ]
  },
  {
   "cell_type": "markdown",
   "id": "f1a2036c-e154-4709-9faa-a0fee51a1d5d",
   "metadata": {},
   "source": [
    "<h4>The command used for HSRP:</h4>"
   ]
  },
  {
   "attachments": {},
   "cell_type": "markdown",
   "id": "0a6c2ad7-c337-47df-83c3-8fd4eeff1c79",
   "metadata": {},
   "source": [
    "<img src=\"https://github.com/bilyatch/CCNA/blob/main/photo/Screenshot%202025-01-01%20153938.png?raw=true\">"
   ]
  },
  {
   "cell_type": "markdown",
   "id": "a8a38857-3e76-4862-af48-bb87531e207f",
   "metadata": {},
   "source": []
  },
  {
   "cell_type": "markdown",
   "id": "de6f556e-b7f9-4c3c-91bd-145c60a233da",
   "metadata": {},
   "source": [
    "<h2>Lab:</h2>"
   ]
  },
  {
   "cell_type": "markdown",
   "id": "ec4f298c-4fea-4ca9-bb5e-fd46baf7beb4",
   "metadata": {},
   "source": [
    "<img src=\"https://github.com/bilyatch/CCNA/blob/main/photo/Screenshot%202025-01-02%20000203.png?raw=true\">"
   ]
  },
  {
   "cell_type": "markdown",
   "id": "c64a04de-0710-4c34-be8b-8b76ba8911c2",
   "metadata": {},
   "source": [
    "In lab I've configured each interface as shown in fig. above."
   ]
  },
  {
   "cell_type": "markdown",
   "id": "5efdcb5e-f2ab-4e99-a483-1cf708ca1e39",
   "metadata": {},
   "source": [
    "<h4>In R1:</h4><br>\n",
    "<br>\n",
    "<img src=\"https://github.com/bilyatch/CCNA/blob/main/photo/Screenshot%202025-01-02%20001432.png?raw=true\"><br>\n",
    "<br>\n",
    "R1# show running config\n",
    "<img src=\"https://github.com/bilyatch/CCNA/blob/main/photo/Screenshot%202025-01-02%20001635.png?raw=true\"><br>\n",
    "<br>\n",
    "<img src=\"https://github.com/bilyatch/CCNA/blob/main/photo/Screenshot%202025-01-02%20001836.png?raw=true\">"
   ]
  },
  {
   "cell_type": "markdown",
   "id": "7747ddf1-17ca-497c-9f9a-701ac2237d14",
   "metadata": {},
   "source": [
    "Like wise i've configured other 2 router(i.e R2 and R3). Then I ping pc1 to pc3, which was successful.<br>\n",
    "<img src=\"https://github.com/bilyatch/CCNA/blob/main/photo/Screenshot%202025-01-02%20002201.png?raw=true\">"
   ]
  },
  {
   "cell_type": "markdown",
   "id": "dc2effb0-034a-4d1e-9577-41989329bef9",
   "metadata": {},
   "source": [
    "R1 is the active router in the above fig. So we shutdown interface f/0 of R1 then the R2 will act as a active router and then interface f0/0 of R2 will be used to transer data to Pc3 as shown in fig below."
   ]
  },
  {
   "cell_type": "markdown",
   "id": "3533b8b2-bcd0-436d-8cfc-a751b3aba599",
   "metadata": {},
   "source": [
    "R1(config)#interface f0/0<br>\n",
    "R1(config-if)#shutdown<br>\n",
    "<br>\n",
    "Then we'll ping and trace pc3<br>\n",
    "<img src=\"https://github.com/bilyatch/CCNA/blob/main/photo/Screenshot%202025-01-02%20004407.png?raw=true\">\n"
   ]
  },
  {
   "cell_type": "markdown",
   "id": "d4ad5208-662e-4d73-a6b2-acf9799ee0e0",
   "metadata": {},
   "source": []
  },
  {
   "cell_type": "markdown",
   "id": "8ed11f8b-87a4-4649-9d7a-a644ed899f30",
   "metadata": {},
   "source": []
  }
 ],
 "metadata": {
  "kernelspec": {
   "display_name": "Python 3 (ipykernel)",
   "language": "python",
   "name": "python3"
  },
  "language_info": {
   "codemirror_mode": {
    "name": "ipython",
    "version": 3
   },
   "file_extension": ".py",
   "mimetype": "text/x-python",
   "name": "python",
   "nbconvert_exporter": "python",
   "pygments_lexer": "ipython3",
   "version": "3.11.6"
  }
 },
 "nbformat": 4,
 "nbformat_minor": 5
}
